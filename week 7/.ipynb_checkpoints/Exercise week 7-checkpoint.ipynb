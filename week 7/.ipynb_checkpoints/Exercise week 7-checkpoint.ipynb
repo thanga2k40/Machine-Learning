{
 "cells": [
  {
   "cell_type": "markdown",
   "metadata": {},
   "source": [
    "# K-means\n",
    "Phân cụm là một bài toán học không được giám sát, thường được sử dụng khi bạn không có nhãn dữ liệu. \n",
    "\n",
    "Phân cụm K-Means là một trong những thuật toán phân cụm phổ biến. Mục tiêu của thuật toán này là tìm các nhóm (các cụm) trong các dữ liệu nhất định. \n",
    "\n",
    "Xây dựng phân cụm KMeans được thực hiện theo ý tưởng sau:\n",
    "- Chọn ra k tâm ngẫu nhiên của các cụm.\n",
    "- Gán mỗi dữ liệu $x_i$ vào cụm có tâm gần nó nhất, bằng cách tính khoảng cách từ $x_i$ đến các tâm\n",
    "- Chọn lại tâm cụm bằng cách tính lại tâm nhờ các điểm thuộc cụm\n",
    "- Lặp lại các bước trên cho đến khi không có sự thay đổi về các điểm trong cụm.\n",
    "\n",
    "Trong bài này chúng ta sẽ thực hiện cài đặt thuật toán phân cụm K-means từ đầu.\n",
    "\n",
    "![title](https://i.imgur.com/k4XcapI.gif)"
   ]
  },
  {
   "cell_type": "code",
   "execution_count": 16,
   "metadata": {},
   "outputs": [
    {
     "name": "stdout",
     "output_type": "stream",
     "text": [
      "The autoreload extension is already loaded. To reload it, use:\n",
      "  %reload_ext autoreload\n"
     ]
    }
   ],
   "source": [
    "# Import một số thư viện cần thiết.  \n",
    "import random\n",
    "import numpy as np\n",
    "from sklearn import datasets\n",
    "from sklearn.model_selection import train_test_split \n",
    "import matplotlib.pyplot as plt\n",
    "\n",
    "# Sử dụng một mẹo nhỏ để vẽ hình trên cùng một dòng thay vì mở cửa sổ mới\n",
    "%matplotlib inline\n",
    "plt.rcParams['figure.figsize'] = (10.0, 8.0) # đặt kích thước mặc định cho hình\n",
    "plt.rcParams['image.interpolation'] = 'nearest'\n",
    "plt.rcParams['image.cmap'] = 'gray'\n",
    "\n",
    "# Một mẹo nhỏ để notebook tự load lại các module bên ngoài;\n",
    "# xem thêm tại http://stackoverflow.com/questions/1907993/autoreload-of-modules-in-ipython\n",
    "%load_ext autoreload\n",
    "%autoreload 2"
   ]
  },
  {
   "cell_type": "code",
   "execution_count": 17,
   "metadata": {},
   "outputs": [
    {
     "name": "stdout",
     "output_type": "stream",
     "text": [
      "Training data shape:  (120, 4)\n",
      "Training labels shape:  (120,)\n",
      "Test data shape:  (30, 4)\n",
      "Test labels shape:  (30,)\n"
     ]
    }
   ],
   "source": [
    "# Tải dữ liệu hoa cẩm chướng từ Scikit-learn.\n",
    "iris = datasets.load_iris()\n",
    "X_train, X_test, y_train, y_test = train_test_split(iris.data, \\\n",
    "                                                    iris.target, test_size=0.2)\n",
    "\n",
    "# In ra kích thước dữ liệu huấn luyện và dữ liệu kiểm tra như một \n",
    "# phép thử đơn giản.\n",
    "print('Training data shape: ', X_train.shape)\n",
    "print('Training labels shape: ', y_train.shape)\n",
    "print('Test data shape: ', X_test.shape)\n",
    "print('Test labels shape: ', y_test.shape)\n"
   ]
  },
  {
   "cell_type": "markdown",
   "metadata": {},
   "source": [
    "Đầu tiên, chúng ta cần cài đặt hàm huấn luyện mô hình K-means. Trong phần này, K-means thực hiện việc học cách phân cụm dữ liệu từ dữ liệu huấn luyện.\n",
    "\n",
    "Như đã nêu ở trên, việc học cách phân cụm được thực hiện theo 4 bước:\n",
    "- Chọn ra k tâm ngẫu nhiên của các cụm.\n",
    "- Gán mỗi dữ liệu $x_i$ vào cụm có tâm gần nó nhất, bằng cách tính khoảng cách từ $x_i$ đến các tâm\n",
    "- Chọn lại tâm cụm bằng cách tính lại tâm nhờ các điểm thuộc cụm\n",
    "- Lặp lại các bước trên cho đến khi không có sự thay đổi về các điểm trong cụm.\n",
    "\n",
    "** Bài tập: ** Mở tệp `k_means.py` và cài đặt hàm `train()`. Trong phần này, để tiện tính toán, ta cài đặt đồng thời các hàm `compute_distances`.\n",
    "\n",
    "*Gợi ý: Tham khảo K-Nearest Neighbor để cài đặt các hàm compute_distances.* "
   ]
  },
  {
   "cell_type": "code",
   "execution_count": 18,
   "metadata": {},
   "outputs": [
    {
     "name": "stdout",
     "output_type": "stream",
     "text": [
      "[array([5.4, 3.9, 1.3, 0.4]), array([6.1, 2.8, 4. , 1.3]), array([6.9, 3.1, 5.4, 2.1])]\n",
      "0 th\n",
      "[array([5.4, 3.9, 1.3, 0.4]), array([5. , 3.6, 1.4, 0.2]), array([4.4, 3.2, 1.3, 0.2]), array([4.3, 3. , 1.1, 0.1]), array([5. , 3.4, 1.5, 0.2]), array([5.1, 3.3, 1.7, 0.5]), array([5.1, 3.8, 1.5, 0.3]), array([4.8, 3.4, 1.9, 0.2]), array([4.5, 2.3, 1.3, 0.3]), array([4.9, 3.1, 1.5, 0.1]), array([4.8, 3.1, 1.6, 0.2]), array([5.1, 3.5, 1.4, 0.2]), array([5. , 3.5, 1.6, 0.6]), array([5. , 3.4, 1.6, 0.4]), array([4.6, 3.1, 1.5, 0.2]), array([5.1, 3.8, 1.6, 0.2]), array([5.4, 3.9, 1.7, 0.4]), array([5. , 3.2, 1.2, 0.2]), array([4.6, 3.4, 1.4, 0.3]), array([4.8, 3. , 1.4, 0.1]), array([4.9, 3.1, 1.5, 0.1]), array([5.5, 3.5, 1.3, 0.2]), array([4.9, 3.1, 1.5, 0.1]), array([5.4, 3.4, 1.5, 0.4]), array([4.7, 3.2, 1.3, 0.2]), array([5. , 3.5, 1.3, 0.3]), array([5.1, 3.4, 1.5, 0.2]), array([5.1, 3.7, 1.5, 0.4]), array([4.6, 3.6, 1. , 0.2]), array([5.2, 3.4, 1.4, 0.2]), array([5. , 3. , 1.6, 0.2]), array([5.1, 3.8, 1.9, 0.4]), array([4.7, 3.2, 1.6, 0.2]), array([4.4, 2.9, 1.4, 0.2]), array([4.8, 3. , 1.4, 0.3]), array([5. , 3.3, 1.4, 0.2]), array([5.4, 3.4, 1.7, 0.2]), array([4.9, 3. , 1.4, 0.2]), array([5.3, 3.7, 1.5, 0.2]), array([5.8, 4. , 1.2, 0.2]), array([4.4, 3. , 1.3, 0.2]), array([5.5, 4.2, 1.4, 0.2])]\n",
      "[array([6.1, 2.8, 4. , 1.3]), array([6. , 2.2, 5. , 1.5]), array([6.3, 2.5, 4.9, 1.5]), array([6.4, 3.2, 4.5, 1.5]), array([6.3, 2.3, 4.4, 1.3]), array([6.1, 3. , 4.6, 1.4]), array([6.2, 2.2, 4.5, 1.5]), array([5.6, 2.7, 4.2, 1.3]), array([5.5, 2.6, 4.4, 1.2]), array([5.5, 2.5, 4. , 1.3]), array([5. , 2.3, 3.3, 1. ]), array([6.4, 2.9, 4.3, 1.3]), array([4.9, 2.5, 4.5, 1.7]), array([5.8, 2.7, 3.9, 1.2]), array([5.7, 2.8, 4.1, 1.3]), array([6.7, 3.1, 4.4, 1.4]), array([6. , 3. , 4.8, 1.8]), array([5.5, 2.4, 3.8, 1.1]), array([5.5, 2.4, 3.7, 1. ]), array([6.6, 3. , 4.4, 1.4]), array([5.7, 3. , 4.2, 1.2]), array([6.2, 2.8, 4.8, 1.8]), array([6.3, 3.3, 4.7, 1.6]), array([6.6, 2.9, 4.6, 1.3]), array([5.7, 2.8, 4.5, 1.3]), array([5.6, 2.5, 3.9, 1.1]), array([5.9, 3. , 4.2, 1.5]), array([6.2, 2.9, 4.3, 1.3]), array([5.7, 2.6, 3.5, 1. ]), array([5.9, 3.2, 4.8, 1.8]), array([5. , 2. , 3.5, 1. ]), array([5.2, 2.7, 3.9, 1.4]), array([6. , 3.4, 4.5, 1.6]), array([5.7, 2.5, 5. , 2. ]), array([6.5, 2.8, 4.6, 1.5]), array([5.8, 2.6, 4. , 1.2]), array([5.8, 2.7, 4.1, 1. ]), array([5.6, 2.9, 3.6, 1.3]), array([5.6, 3. , 4.1, 1.3]), array([5.6, 2.8, 4.9, 2. ]), array([5.5, 2.3, 4. , 1.3])]\n",
      "[array([6.9, 3.1, 5.4, 2.1]), array([6.3, 3.4, 5.6, 2.4]), array([6.7, 3.1, 4.7, 1.5]), array([6.7, 3.3, 5.7, 2.1]), array([7.2, 3. , 5.8, 1.6]), array([6.3, 2.7, 4.9, 1.8]), array([6.9, 3.1, 4.9, 1.5]), array([5.9, 3. , 5.1, 1.8]), array([7.1, 3. , 5.9, 2.1]), array([5.8, 2.7, 5.1, 1.9]), array([7.9, 3.8, 6.4, 2. ]), array([6.2, 3.4, 5.4, 2.3]), array([7.7, 3.8, 6.7, 2.2]), array([7.3, 2.9, 6.3, 1.8]), array([6.4, 2.7, 5.3, 1.9]), array([7.2, 3.6, 6.1, 2.5]), array([6.4, 3.1, 5.5, 1.8]), array([7.4, 2.8, 6.1, 1.9]), array([6.7, 3.3, 5.7, 2.5]), array([7.7, 2.6, 6.9, 2.3]), array([6.1, 2.6, 5.6, 1.4]), array([7.6, 3. , 6.6, 2.1]), array([6. , 2.7, 5.1, 1.6]), array([6.8, 3.2, 5.9, 2.3]), array([6.7, 3. , 5.2, 2.3]), array([6.7, 3.1, 5.6, 2.4]), array([7. , 3.2, 4.7, 1.4]), array([6.8, 3. , 5.5, 2.1]), array([6.5, 3. , 5.5, 1.8]), array([6.9, 3.1, 5.1, 2.3]), array([6.5, 3. , 5.2, 2. ]), array([6.3, 2.8, 5.1, 1.5]), array([6.8, 2.8, 4.8, 1.4]), array([7.7, 3. , 6.1, 2.3]), array([6.1, 3. , 4.9, 1.8]), array([5.8, 2.7, 5.1, 1.9]), array([6.5, 3. , 5.8, 2.2])]\n",
      "1 th\n",
      "[array([5.4, 3.9, 1.3, 0.4]), array([5. , 3.6, 1.4, 0.2]), array([4.4, 3.2, 1.3, 0.2]), array([4.3, 3. , 1.1, 0.1]), array([5. , 3.4, 1.5, 0.2]), array([5.1, 3.3, 1.7, 0.5]), array([5.1, 3.8, 1.5, 0.3]), array([4.8, 3.4, 1.9, 0.2]), array([4.5, 2.3, 1.3, 0.3]), array([4.9, 3.1, 1.5, 0.1]), array([4.8, 3.1, 1.6, 0.2]), array([5.1, 3.5, 1.4, 0.2]), array([5. , 3.5, 1.6, 0.6]), array([5. , 3.4, 1.6, 0.4]), array([4.6, 3.1, 1.5, 0.2]), array([5.1, 3.8, 1.6, 0.2]), array([5.4, 3.9, 1.7, 0.4]), array([5. , 3.2, 1.2, 0.2]), array([4.6, 3.4, 1.4, 0.3]), array([4.8, 3. , 1.4, 0.1]), array([4.9, 3.1, 1.5, 0.1]), array([5.5, 3.5, 1.3, 0.2]), array([4.9, 3.1, 1.5, 0.1]), array([5.4, 3.4, 1.5, 0.4]), array([4.7, 3.2, 1.3, 0.2]), array([5. , 3.5, 1.3, 0.3]), array([5.1, 3.4, 1.5, 0.2]), array([5.1, 3.7, 1.5, 0.4]), array([4.6, 3.6, 1. , 0.2]), array([5.2, 3.4, 1.4, 0.2]), array([5. , 3. , 1.6, 0.2]), array([5.1, 3.8, 1.9, 0.4]), array([4.7, 3.2, 1.6, 0.2]), array([4.4, 2.9, 1.4, 0.2]), array([4.8, 3. , 1.4, 0.3]), array([5. , 3.3, 1.4, 0.2]), array([5.4, 3.4, 1.7, 0.2]), array([4.9, 3. , 1.4, 0.2]), array([5.3, 3.7, 1.5, 0.2]), array([5.8, 4. , 1.2, 0.2]), array([4.4, 3. , 1.3, 0.2]), array([5.5, 4.2, 1.4, 0.2])]\n",
      "[array([6.1, 2.8, 4. , 1.3]), array([6. , 2.2, 5. , 1.5]), array([6.3, 2.5, 4.9, 1.5]), array([6.4, 3.2, 4.5, 1.5]), array([6.3, 2.3, 4.4, 1.3]), array([6.1, 3. , 4.6, 1.4]), array([6.2, 2.2, 4.5, 1.5]), array([5.6, 2.7, 4.2, 1.3]), array([6.3, 2.7, 4.9, 1.8]), array([5.9, 3. , 5.1, 1.8]), array([5.5, 2.6, 4.4, 1.2]), array([5.8, 2.7, 5.1, 1.9]), array([5.5, 2.5, 4. , 1.3]), array([5. , 2.3, 3.3, 1. ]), array([6.4, 2.9, 4.3, 1.3]), array([4.9, 2.5, 4.5, 1.7]), array([5.8, 2.7, 3.9, 1.2]), array([5.7, 2.8, 4.1, 1.3]), array([6.7, 3.1, 4.4, 1.4]), array([6. , 3. , 4.8, 1.8]), array([5.5, 2.4, 3.8, 1.1]), array([5.5, 2.4, 3.7, 1. ]), array([6.6, 3. , 4.4, 1.4]), array([5.7, 3. , 4.2, 1.2]), array([6.2, 2.8, 4.8, 1.8]), array([6.3, 3.3, 4.7, 1.6]), array([6.6, 2.9, 4.6, 1.3]), array([5.7, 2.8, 4.5, 1.3]), array([6. , 2.7, 5.1, 1.6]), array([5.6, 2.5, 3.9, 1.1]), array([5.9, 3. , 4.2, 1.5]), array([6.2, 2.9, 4.3, 1.3]), array([5.7, 2.6, 3.5, 1. ]), array([5.9, 3.2, 4.8, 1.8]), array([5. , 2. , 3.5, 1. ]), array([5.2, 2.7, 3.9, 1.4]), array([6. , 3.4, 4.5, 1.6]), array([5.7, 2.5, 5. , 2. ]), array([6.5, 2.8, 4.6, 1.5]), array([5.8, 2.6, 4. , 1.2]), array([5.8, 2.7, 4.1, 1. ]), array([6.1, 3. , 4.9, 1.8]), array([5.6, 2.9, 3.6, 1.3]), array([5.6, 3. , 4.1, 1.3]), array([5.6, 2.8, 4.9, 2. ]), array([5.5, 2.3, 4. , 1.3]), array([5.8, 2.7, 5.1, 1.9])]\n",
      "[array([6.9, 3.1, 5.4, 2.1]), array([6.3, 3.4, 5.6, 2.4]), array([6.7, 3.1, 4.7, 1.5]), array([6.7, 3.3, 5.7, 2.1]), array([7.2, 3. , 5.8, 1.6]), array([6.9, 3.1, 4.9, 1.5]), array([7.1, 3. , 5.9, 2.1]), array([7.9, 3.8, 6.4, 2. ]), array([6.2, 3.4, 5.4, 2.3]), array([7.7, 3.8, 6.7, 2.2]), array([7.3, 2.9, 6.3, 1.8]), array([6.4, 2.7, 5.3, 1.9]), array([7.2, 3.6, 6.1, 2.5]), array([6.4, 3.1, 5.5, 1.8]), array([7.4, 2.8, 6.1, 1.9]), array([6.7, 3.3, 5.7, 2.5]), array([7.7, 2.6, 6.9, 2.3]), array([6.1, 2.6, 5.6, 1.4]), array([7.6, 3. , 6.6, 2.1]), array([6.8, 3.2, 5.9, 2.3]), array([6.7, 3. , 5.2, 2.3]), array([6.7, 3.1, 5.6, 2.4]), array([7. , 3.2, 4.7, 1.4]), array([6.8, 3. , 5.5, 2.1]), array([6.5, 3. , 5.5, 1.8]), array([6.9, 3.1, 5.1, 2.3]), array([6.5, 3. , 5.2, 2. ]), array([6.3, 2.8, 5.1, 1.5]), array([6.8, 2.8, 4.8, 1.4]), array([7.7, 3. , 6.1, 2.3]), array([6.5, 3. , 5.8, 2.2])]\n"
     ]
    }
   ],
   "source": [
    "from k_means import KMeans\n",
    "\n",
    "# Khởi tạo bộ phân cụm KMeans. \n",
    "# Chọn số lượng các cụm cần phân ra, trong trường hợp này, ta chọn số cụm\n",
    "# bằng số lượng các loại hoa cẩm chướng\n",
    "cluster = KMeans(num_clusters=3)\n",
    "\n",
    "# Mở tệp k_means.py và cài đặt hàm huấn luyện train().\n",
    "cluster.train(X_train,y_train)"
   ]
  },
  {
   "cell_type": "code",
   "execution_count": 19,
   "metadata": {},
   "outputs": [
    {
     "name": "stdout",
     "output_type": "stream",
     "text": [
      "Got 27 / 30 correct => accuracy: 0.900000\n"
     ]
    }
   ],
   "source": [
    "# Bây giờ, cài đặt hàm predict_labels và chạy code dưới đây:\n",
    "# Chúng ta dùng k = 3 (Số lượng cụm ứng với các nhãn cần phân biệt).\n",
    "num_test = X_test.shape[0]\n",
    "dists = cluster.compute_distances_no_loops(X_test)\n",
    "y_test_pred = cluster.predict_labels(dists)\n",
    "\n",
    "# Tính ra in ra tỉ lệ những ví dụ dự đoán đúng\n",
    "num_correct = np.sum(y_test_pred == y_test)\n",
    "accuracy = float(num_correct) / num_test\n",
    "print('Got %d / %d correct => accuracy: %f' % (num_correct, num_test, accuracy))"
   ]
  },
  {
   "cell_type": "markdown",
   "metadata": {
    "collapsed": true
   },
   "source": [
    "** Bài tập: ** Điều chỉnh code để sau khi phân cụm, nhãn phân cụm trả về là nhãn tương ứng với loại hoa cẩm chướng của cụm đó."
   ]
  },
  {
   "cell_type": "code",
   "execution_count": null,
   "metadata": {
    "collapsed": true
   },
   "outputs": [],
   "source": []
  }
 ],
 "metadata": {
  "kernelspec": {
   "display_name": "Python 3",
   "language": "python",
   "name": "python3"
  },
  "language_info": {
   "codemirror_mode": {
    "name": "ipython",
    "version": 3
   },
   "file_extension": ".py",
   "mimetype": "text/x-python",
   "name": "python",
   "nbconvert_exporter": "python",
   "pygments_lexer": "ipython3",
   "version": "3.6.4"
  }
 },
 "nbformat": 4,
 "nbformat_minor": 2
}
