{
 "cells": [
  {
   "cell_type": "code",
   "execution_count": 1,
   "metadata": {},
   "outputs": [
    {
     "name": "stdout",
     "output_type": "stream",
     "text": [
      "4177.248169415656\n"
     ]
    }
   ],
   "source": [
    "# Số tiền An nhận được sau 15 năm gửi ngân hàng\n",
    "print(1000 * 1.1**15)\n"
   ]
  },
  {
   "cell_type": "code",
   "execution_count": 2,
   "metadata": {},
   "outputs": [
    {
     "name": "stdout",
     "output_type": "stream",
     "text": [
      "1000\n"
     ]
    }
   ],
   "source": [
    "#2.1\n",
    "# Khởi tạo biến savings có giá trị bằng 1000\n",
    "savings = 1000\n",
    "# In ra giá trị của biến savings\n",
    "print(savings)"
   ]
  },
  {
   "cell_type": "code",
   "execution_count": 4,
   "metadata": {},
   "outputs": [
    {
     "name": "stdout",
     "output_type": "stream",
     "text": [
      "4177.248169415656\n"
     ]
    }
   ],
   "source": [
    "#2.2\n",
    "# Khởi tạo biến savings\n",
    "savings = 1000\n",
    "\n",
    "# Khởi tạo biến factor biểu diễn lãi suất ngân hàng\n",
    "factor = 1.1\n",
    "\n",
    "# Tính toán số tiền và gán giá trị vào biến result\n",
    "result = savings * factor**15 \n",
    "\n",
    "# In ra giá trị của result\n",
    "print(result)"
   ]
  },
  {
   "cell_type": "code",
   "execution_count": null,
   "metadata": {},
   "outputs": [],
   "source": []
  }
 ],
 "metadata": {
  "kernelspec": {
   "display_name": "Python 3",
   "language": "python",
   "name": "python3"
  },
  "language_info": {
   "codemirror_mode": {
    "name": "ipython",
    "version": 3
   },
   "file_extension": ".py",
   "mimetype": "text/x-python",
   "name": "python",
   "nbconvert_exporter": "python",
   "pygments_lexer": "ipython3",
   "version": "3.6.4"
  }
 },
 "nbformat": 4,
 "nbformat_minor": 2
}
