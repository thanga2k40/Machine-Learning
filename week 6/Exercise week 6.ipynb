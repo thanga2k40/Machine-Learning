{
 "cells": [
  {
   "cell_type": "markdown",
   "metadata": {},
   "source": [
    "# K láng giềng gần nhất (K-Nearest Neighbor)\n",
    "\n",
    "Bộ phân lớp kNN bao gồm 2 giai đoạn:\n",
    "- Trong quá trình huấn luyện, bộ phân lớp lấy dữ liệu huấn luyện và ghi nhớ chúng.\n",
    "- Trong quá trình kiểm tra, kNN phân lớp từng dữ liệu kiểm tra bằng cách so sánh dữ liệu đó với tất cả các dữ liệu huấn luyện và tìm ra nhãn của `k ví dụ gần nhất`.\n",
    "- Giá trị của tham số `k` được kiểm định chéo.\n",
    "\n",
    "Trong bài tập này, bạn sẽ lần lượt cài đặt từng bước này và hiểu được cách xây dựng một bộ phân lớp hoàn chỉnh."
   ]
  },
  {
   "cell_type": "code",
   "execution_count": 29,
   "metadata": {},
   "outputs": [
    {
     "name": "stdout",
     "output_type": "stream",
     "text": [
      "The autoreload extension is already loaded. To reload it, use:\n",
      "  %reload_ext autoreload\n"
     ]
    }
   ],
   "source": [
    "# Import một số thư viện cần thiết.\n",
    "import random\n",
    "import numpy as np\n",
    "from sklearn import datasets\n",
    "from sklearn.model_selection import train_test_split \n",
    "import matplotlib.pyplot as plt\n",
    "\n",
    "# Sử dụng một mẹo nhỏ để vẽ hình trên cùng một dòng thay vì mở cửa sổ mới\n",
    "%matplotlib inline\n",
    "plt.rcParams['figure.figsize'] = (10.0, 8.0) # đặt kích thước mặc định cho hình\n",
    "plt.rcParams['image.interpolation'] = 'nearest'\n",
    "plt.rcParams['image.cmap'] = 'gray'\n",
    "\n",
    "# Một mẹo nhỏ để notebook tự load lại các module bên ngoài;\n",
    "# xem thêm tại http://stackoverflow.com/questions/1907993/autoreload-of-modules-in-ipython\n",
    "%load_ext autoreload\n",
    "%autoreload 2"
   ]
  },
  {
   "cell_type": "code",
   "execution_count": 28,
   "metadata": {},
   "outputs": [
    {
     "name": "stdout",
     "output_type": "stream",
     "text": [
      "Training data shape:  (120, 4)\n",
      "Training labels shape:  (120,)\n",
      "Test data shape:  (30, 4)\n",
      "Test labels shape:  (30,)\n"
     ]
    }
   ],
   "source": [
    "# Tải dữ liệu hoa cẩm chướng từ Scikit-learn.\n",
    "iris = datasets.load_iris()\n",
    "X_train, X_test, y_train, y_test = train_test_split(iris.data, \\\n",
    "                                                    iris.target, test_size=0.2,shuffle = True)\n",
    "\n",
    "# In ra kích thước dữ liệu huấn luyện và dữ liệu kiểm tra như một \n",
    "# phép thử đơn giản.\n",
    "print('Training data shape: ', X_train.shape)\n",
    "print('Training labels shape: ', y_train.shape)\n",
    "print('Test data shape: ', X_test.shape)\n",
    "print('Test labels shape: ', y_test.shape)"
   ]
  },
  {
   "cell_type": "code",
   "execution_count": 27,
   "metadata": {},
   "outputs": [
    {
     "data": {
      "text/plain": [
       "0"
      ]
     },
     "execution_count": 27,
     "metadata": {},
     "output_type": "execute_result"
    }
   ],
   "source": [
    "from k_nearest_neighbor import KNearestNeighbor\n",
    "\n",
    "# Khởi tạo bộ phân lớp kNN. \n",
    "# Ghi nhớ rằng quá trình huấn luyện kNN chỉ đơn giản là ghi  nhớ dữ liệu. \n",
    "classifier = KNearestNeighbor()\n",
    "classifier.train(X_train, y_train)"
   ]
  },
  {
   "cell_type": "markdown",
   "metadata": {},
   "source": [
    "Bây giờ chúng ta cần cài đặt giai đoạn thứ hai: Phân loại dữ liệu kiểm tra. Chúng ta có thể chia giai đoạn này thành hai bước: \n",
    "\n",
    "1. Đầu tiên, chúng ta phải tính được khoảng cách giữa tất cả các dữ liệu kiểm tra so với tất cả các dữ liệu huấn luyện. \n",
    "2. Với những khoảng cách đó, tìm ra `k láng giềng gần nhất ` cho mỗi dữ liệu và bỏ phiếu cho nhãn của dữ liệu đó.\n",
    "\n",
    "Hãy bắt đầu với việc tính ma trận khonagr cách giữa tất cả các dữ liệu huấn luyện và kiểm tra. Ví dụ nếu có **Ntr** dữ liệu huấn luyện và **Nte** dữ liệu kiểm tra, kết quả thu được là ma trận kích thước **Nte x Ntr** với mỗi phần tử (i,j) là khoảng cách giữa dữ liệu kiểm tra i và dữ liệu kiểm tra j.\n",
    "\n",
    "Đầu tiên, mở `k_nearest_neighbor.py` và cài đặt hàm `compute_distances_two_loops` sử dụng 2 vòng lặp (không hiệu quả) cho mỗi cặp dữ liệu (kiểm tra, huấn luyện) và tính khoảng ma trận khoảng cách cho từng phần tử một."
   ]
  },
  {
   "cell_type": "code",
   "execution_count": 23,
   "metadata": {},
   "outputs": [
    {
     "name": "stdout",
     "output_type": "stream",
     "text": [
      "(30, 120)\n"
     ]
    }
   ],
   "source": [
    "# Mở k_nearest_neighbor.py và cài đặt compute_distances_two_loops.\n",
    "\n",
    "# Kiểm tra phần cài đặt của bạn:\n",
    "dists = classifier.compute_distances_two_loops(X_test)\n",
    "print(dists.shape)"
   ]
  },
  {
   "cell_type": "code",
   "execution_count": 24,
   "metadata": {},
   "outputs": [
    {
     "data": {
      "image/png": "[encoded data removed]",
      "text/plain": [
       "<matplotlib.figure.Figure at 0x2d631f0>"
      ]
     },
     "metadata": {},
     "output_type": "display_data"
    }
   ],
   "source": [
    "# Chúng ta có thể biểu diễn ma trận khoảng cách: mỗi hàng là một dữ liệu kiểm tra\n",
    "# và khoảng cách của nó đến các dữ liệu huấn luyện\n",
    "plt.imshow(dists, interpolation='none')\n",
    "plt.show()"
   ]
  },
  {
   "cell_type": "code",
   "execution_count": 25,
   "metadata": {},
   "outputs": [
    {
     "name": "stdout",
     "output_type": "stream",
     "text": [
      "Got 27 / 30 correct => accuracy: 0.900000\n"
     ]
    }
   ],
   "source": [
    "# Bây giờ, cài đặt hàm predict_labels và chạy code dưới đây:\n",
    "# Chúng ta dùng k = 1 (Số lượng hàng xóm gần nhất).\n",
    "num_test = X_test.shape[0]\n",
    "y_test_pred = classifier.predict_labels(dists, k=1)\n",
    "\n",
    "# Tính ra in ra tỉ lệ những ví dụ dự đoán đúng\n",
    "num_correct = np.sum(y_test_pred == y_test)\n",
    "accuracy = float(num_correct) / num_test\n",
    "print('Got %d / %d correct => accuracy: %f' % (num_correct, num_test, accuracy))"
   ]
  },
  {
   "cell_type": "markdown",
   "metadata": {},
   "source": [
    "Bạn nên hi vọng đạt được kết quả xấp xỉ 30%. Giờ hãy thử với số láng giềng nhiều hơn, k = 5:"
   ]
  },
  {
   "cell_type": "code",
   "execution_count": 26,
   "metadata": {},
   "outputs": [
    {
     "name": "stdout",
     "output_type": "stream",
     "text": [
      "Got 28 / 30 correct => accuracy: 0.933333\n"
     ]
    }
   ],
   "source": [
    "y_test_pred = classifier.predict_labels(dists, k=5)\n",
    "num_correct = np.sum(y_test_pred == y_test)\n",
    "accuracy = float(num_correct) / num_test\n",
    "print('Got %d / %d correct => accuracy: %f' % (num_correct, num_test, accuracy))"
   ]
  },
  {
   "cell_type": "markdown",
   "metadata": {},
   "source": [
    "Bạn nên hi vọng kết quả đạt được tốt hơn so với k = 1."
   ]
  },
  {
   "cell_type": "code",
   "execution_count": 19,
   "metadata": {},
   "outputs": [
    {
     "ename": "ValueError",
     "evalue": "operands could not be broadcast together with shapes (27,120) (30,120) ",
     "output_type": "error",
     "traceback": [
      "\u001b[1;31m---------------------------------------------------------------------------\u001b[0m",
      "\u001b[1;31mValueError\u001b[0m                                Traceback (most recent call last)",
      "\u001b[1;32m<ipython-input-19-e15fd3c36147>\u001b[0m in \u001b[0;36m<module>\u001b[1;34m()\u001b[0m\n\u001b[0;32m      9\u001b[0m \u001b[1;31m# ma trận về dạng vector và tính khoảng cách Euclidean của chúng.\u001b[0m\u001b[1;33m\u001b[0m\u001b[1;33m\u001b[0m\u001b[0m\n\u001b[0;32m     10\u001b[0m \u001b[1;33m\u001b[0m\u001b[0m\n\u001b[1;32m---> 11\u001b[1;33m \u001b[0mdifference\u001b[0m \u001b[1;33m=\u001b[0m \u001b[0mnp\u001b[0m\u001b[1;33m.\u001b[0m\u001b[0mlinalg\u001b[0m\u001b[1;33m.\u001b[0m\u001b[0mnorm\u001b[0m\u001b[1;33m(\u001b[0m\u001b[0mdists\u001b[0m \u001b[1;33m-\u001b[0m \u001b[0mdists_one\u001b[0m\u001b[1;33m,\u001b[0m \u001b[0mord\u001b[0m\u001b[1;33m=\u001b[0m\u001b[1;34m'fro'\u001b[0m\u001b[1;33m)\u001b[0m\u001b[1;33m\u001b[0m\u001b[0m\n\u001b[0m\u001b[0;32m     12\u001b[0m \u001b[0mprint\u001b[0m\u001b[1;33m(\u001b[0m\u001b[1;34m'Difference was: %f'\u001b[0m \u001b[1;33m%\u001b[0m \u001b[1;33m(\u001b[0m\u001b[0mdifference\u001b[0m\u001b[1;33m,\u001b[0m \u001b[1;33m)\u001b[0m\u001b[1;33m)\u001b[0m\u001b[1;33m\u001b[0m\u001b[0m\n\u001b[0;32m     13\u001b[0m \u001b[1;32mif\u001b[0m \u001b[0mdifference\u001b[0m \u001b[1;33m<\u001b[0m \u001b[1;36m0.001\u001b[0m\u001b[1;33m:\u001b[0m\u001b[1;33m\u001b[0m\u001b[0m\n",
      "\u001b[1;31mValueError\u001b[0m: operands could not be broadcast together with shapes (27,120) (30,120) "
     ]
    }
   ],
   "source": [
    "# Giờ hãy thử tăng tốc tính toán bằng cách vectorize một phần với một vòng lặp.\n",
    "# Cài đặt hàm compute_distances_one_loop và chạy code sau:\n",
    "dists_one = classifier.compute_distances_one_loop(X_test)\n",
    "\n",
    "# Để đảm bảo bạn cài đặt đúng, chúng ta so sánh kết quả với cài đặt ngây thơ trước\n",
    "# đó (2 vòng lặp). Có rất nhiều cách để kiểm tra hai ma trận có giống nhau hay \n",
    "# không; một cách đơn giản nhất là chuẩn Frobenius. Chuẩn Frobenius của 2 ma trận\n",
    "# là căn bậc hai tổng khoảng cách của tất cả các phần tử; nói cách khác, chuyển\n",
    "# ma trận về dạng vector và tính khoảng cách Euclidean của chúng.\n",
    "\n",
    "difference = np.linalg.norm(dists - dists_one, ord='fro')\n",
    "print('Difference was: %f' % (difference, ))\n",
    "if difference < 0.001:\n",
    "    print('Good! The distance matrices are the same')\n",
    "else:\n",
    "    print('Uh-oh! The distance matrices are different')"
   ]
  },
  {
   "cell_type": "code",
   "execution_count": 136,
   "metadata": {},
   "outputs": [
    {
     "name": "stdout",
     "output_type": "stream",
     "text": [
      "Difference was: 0.000000\n",
      "Good! The distance matrices are the same\n"
     ]
    }
   ],
   "source": [
    "# Bây giờ hãy cài đặt vectorize hoàn chỉnh trong computr_distances_no_loops và\n",
    "# chạy code sau:\n",
    "dists_two = classifier.compute_distances_no_loops(X_test)\n",
    "\n",
    "# kiểm tra ma trận khoảng cách có khớp với kết quả chúng ta đã tính trước đó\n",
    "# không:\n",
    "difference = np.linalg.norm(dists - dists_two, ord='fro')\n",
    "print('Difference was: %f' % (difference, ))\n",
    "if difference < 0.001:\n",
    "    print('Good! The distance matrices are the same')\n",
    "else:\n",
    "    print('Uh-oh! The distance matrices are different')"
   ]
  },
  {
   "cell_type": "code",
   "execution_count": 18,
   "metadata": {},
   "outputs": [
    {
     "name": "stdout",
     "output_type": "stream",
     "text": [
      "Two loop version took 0.031251 seconds\n",
      "One loop version took 0.000000 seconds\n",
      "No loop version took 0.000000 seconds\n"
     ]
    }
   ],
   "source": [
    "# Giờ hãy thử xem cài đặt này nhanh như thế nào\n",
    "def time_function(f, *args):\n",
    "    \"\"\"\n",
    "    Call a function f with args and return the time (in seconds) that it took to execute.\n",
    "    \"\"\"\n",
    "    import time\n",
    "    tic = time.time()\n",
    "    f(*args)\n",
    "    toc = time.time()\n",
    "    return toc - tic\n",
    "\n",
    "two_loop_time = time_function(classifier.compute_distances_two_loops, X_test)\n",
    "print('Two loop version took %f seconds' % two_loop_time)\n",
    "\n",
    "one_loop_time = time_function(classifier.compute_distances_one_loop, X_test)\n",
    "print('One loop version took %f seconds' % one_loop_time)\n",
    "\n",
    "no_loop_time = time_function(classifier.compute_distances_no_loops, X_test)\n",
    "print('No loop version took %f seconds' % no_loop_time)\n",
    "\n",
    "# bạn sẽ thấy rằng bản cài đặt fully-vectorized (no loop) nhanh hơn rất nhiều"
   ]
  },
  {
   "cell_type": "markdown",
   "metadata": {},
   "source": [
    "### Kiểm định chéo (Cross-validation)\n",
    "\n",
    "Chúng ta đã cài đặt bộ phân lớp K láng giềng gần nhất nhưng chúng ta thấy rằng k = 5 được chọn tùy ý. Chúng ta sẽ xác định giá trị tốt nhất cho siêu tham số này với kiểm định chéo."
   ]
  },
  {
   "cell_type": "code",
   "execution_count": 14,
   "metadata": {},
   "outputs": [
    {
     "name": "stdout",
     "output_type": "stream",
     "text": [
      "k = 1, accuracy = 1.000000\n",
      "k = 1, accuracy = 1.000000\n",
      "k = 1, accuracy = 1.000000\n",
      "k = 1, accuracy = 0.925926\n",
      "k = 1, accuracy = 0.962963\n",
      "k = 3, accuracy = 0.962963\n",
      "k = 3, accuracy = 0.962963\n",
      "k = 3, accuracy = 0.962963\n",
      "k = 3, accuracy = 0.962963\n",
      "k = 3, accuracy = 0.962963\n",
      "k = 5, accuracy = 0.962963\n",
      "k = 5, accuracy = 0.962963\n",
      "k = 5, accuracy = 1.000000\n",
      "k = 5, accuracy = 0.962963\n",
      "k = 5, accuracy = 0.962963\n",
      "k = 8, accuracy = 1.000000\n",
      "k = 8, accuracy = 1.000000\n",
      "k = 8, accuracy = 1.000000\n",
      "k = 8, accuracy = 0.962963\n",
      "k = 8, accuracy = 0.962963\n",
      "k = 10, accuracy = 1.000000\n",
      "k = 10, accuracy = 1.000000\n",
      "k = 10, accuracy = 1.000000\n",
      "k = 10, accuracy = 0.925926\n",
      "k = 10, accuracy = 0.962963\n",
      "k = 12, accuracy = 1.000000\n",
      "k = 12, accuracy = 1.000000\n",
      "k = 12, accuracy = 1.000000\n",
      "k = 12, accuracy = 0.925926\n",
      "k = 12, accuracy = 0.962963\n",
      "k = 15, accuracy = 0.925926\n",
      "k = 15, accuracy = 1.000000\n",
      "k = 15, accuracy = 1.000000\n",
      "k = 15, accuracy = 0.962963\n",
      "k = 15, accuracy = 0.962963\n",
      "k = 20, accuracy = 1.000000\n",
      "k = 20, accuracy = 1.000000\n",
      "k = 20, accuracy = 1.000000\n",
      "k = 20, accuracy = 0.962963\n",
      "k = 20, accuracy = 0.962963\n",
      "k = 50, accuracy = 0.888889\n",
      "k = 50, accuracy = 0.925926\n",
      "k = 50, accuracy = 0.851852\n",
      "k = 50, accuracy = 0.777778\n",
      "k = 50, accuracy = 1.000000\n",
      "k = 100, accuracy = 0.296296\n",
      "k = 100, accuracy = 0.370370\n",
      "k = 100, accuracy = 0.296296\n",
      "k = 100, accuracy = 0.222222\n",
      "k = 100, accuracy = 0.481481\n"
     ]
    }
   ],
   "source": [
    "\n",
    "\n",
    "num_folds = 5\n",
    "k_choices = [1, 3, 5, 8, 10, 12, 15, 20, 50, 100]\n",
    "\n",
    "X_train_folds = []\n",
    "y_train_folds = []\n",
    "X_train1, X_test1, y_train1, y_test1 = train_test_split(iris.data, iris.target, test_size=0.1,shuffle = True)\n",
    "################################################################################\n",
    "# TODO:                                                                        #\n",
    "# Chia dữ liệu huấn luyện ra thành các nhánh. Sau khi chia, X_train_folds và   #\n",
    "# y_train_folds phải là các mảng có độ dài num_folds, với y_train_folds[i] là  #\n",
    "# là vector nhãn cho các điểm trong X_train_folds[i].                          #\n",
    "# Gợi ý: Tìm kiếm trong numpy hàm array_split.                                 #\n",
    "################################################################################\n",
    "X_train_folds = np.array_split(X_train1, num_folds)\n",
    "y_train_folds = np.array_split(y_train1, num_folds)\n",
    "\n",
    "# print(X_train_folds)\n",
    "# print(y_train_folds)\n",
    "\n",
    "################################################################################\n",
    "#                                 END OF YOUR CODE                             #\n",
    "################################################################################\n",
    "\n",
    "# Một từ điển chứa hiệu năng cho các giá trị khác nhau của k mà chúng ta tìm \n",
    "# được khi chạy kiểm định chéo. Sau khi chạy kiểm định chéo, k_to_accuracies[k] \n",
    "# nên là mảng có độ dài num_folds chứa các giá trị hiệu năng khác nhau mà ta \n",
    "# tìm được với các giá trị k khác nhau.\n",
    "k_to_accuracies = {}\n",
    "\n",
    "################################################################################\n",
    "# TODO:                                                                        #\n",
    "# Dùng kiểm định chéo k lần để tìm ra giá trị tốt nhất của k. Với mỗi giá trị  #\n",
    "# k, chạy thuật toán k-nearest-neighbor num_folds lần, với mỗi trường hợp sử   #\n",
    "# num_folds-1 nhánh làm tập  huấn luyện và nhánh còn lại làm tập kiểm tra.    #\n",
    "# Lưu hiệu năng cho mỗi nhánh và tất cả các giá trị k vào k_to_accuracies      #\n",
    "################################################################################\n",
    "for kc in k_choices:\n",
    "    accuracy = 0\n",
    "    k_to_accuracies[kc] = []\n",
    "    for i in range(num_folds):\n",
    "        X_test_fold = X_train_folds[i]\n",
    "        y_test_fold = y_train_folds[i]\n",
    "        num_y_test_cv = y_test_fold.shape[0]\n",
    "        X_train_cv = np.array([])\n",
    "        y_train_cv = np.array([])\n",
    "        for j in range(num_folds):\n",
    "            if j != i:\n",
    "                if(X_train_cv.shape[0] == 0):\n",
    "                    X_train_cv = X_train_folds[j]\n",
    "                    y_train_cv = y_train_folds[j]\n",
    "                else:\n",
    "                    X_train_cv = np.concatenate((X_train_cv,X_train_folds[j]),axis = 0)\n",
    "                    y_train_cv = np.concatenate((y_train_cv,y_train_folds[j]),axis = 0)\n",
    "        \n",
    "#         print(i,\"  \",X_train_cv)\n",
    "#         print(y_train_cv)\n",
    "        clf = KNearestNeighbor()\n",
    "        clf.train(X_train_cv, y_train_cv)\n",
    "        \n",
    "        dists = classifier.compute_distances_no_loops(X_test_fold)\n",
    "        \n",
    "        y_test_cv_pred = classifier.predict_labels(dists, k = kc)\n",
    "        \n",
    "        num_correct = np.sum(y_test_cv_pred == y_test_fold)\n",
    "       # print(num_correct,\" \",num_y_test_cv)\n",
    "        accuracy = float(num_correct) / num_y_test_cv\n",
    "        k_to_accuracies[kc].append(accuracy)\n",
    "################################################################################\n",
    "#                                 END OF YOUR CODE                             #\n",
    "################################################################################\n",
    "\n",
    "# In ra hiệu năng tính toán được\n",
    "for k in sorted(k_to_accuracies):\n",
    "    for accuracy in k_to_accuracies[k]:\n",
    "        print('k = %d, accuracy = %f' % (k, accuracy))"
   ]
  },
  {
   "cell_type": "code",
   "execution_count": 17,
   "metadata": {},
   "outputs": [
    {
     "data": {
      "image/png": "[encoded data removed]",
      "text/plain": [
       "<matplotlib.figure.Figure at 0x144fb4d0>"
      ]
     },
     "metadata": {},
     "output_type": "display_data"
    }
   ],
   "source": [
    "# vẽ ra bản quan sát thô\n",
    "for k in k_choices:\n",
    "    accuracies = k_to_accuracies[k]\n",
    "    plt.scatter([k] * len(accuracies), accuracies)\n",
    "\n",
    "# vẽ ra đường xu hướng với thanh lỗi ứng với độ lệch chuẩn\n",
    "accuracies_mean = np.array([np.mean(v) for k,v in sorted(k_to_accuracies.items())])\n",
    "accuracies_std = np.array([np.std(v) for k,v in sorted(k_to_accuracies.items())])\n",
    "plt.errorbar(k_choices, accuracies_mean, yerr=accuracies_std)\n",
    "plt.title('Cross-validation on k')\n",
    "plt.xlabel('k')\n",
    "plt.ylabel('Cross-validation accuracy')\n",
    "plt.show()"
   ]
  },
  {
   "cell_type": "code",
   "execution_count": 16,
   "metadata": {},
   "outputs": [
    {
     "name": "stdout",
     "output_type": "stream",
     "text": [
      "Got 27 / 30 correct => accuracy: 0.900000\n"
     ]
    }
   ],
   "source": [
    "# Dựa trên kết quả kiểm định chéo ở trên, chọn ra giá trị k tốt nhất, huấn luyện\n",
    "# lại mô hình sử dụng toàn bộ dữ liệu huấn luyện, và kiểm tra nó trên toàn bộ \n",
    "# tập kiểm tra.\n",
    "best_k = 1\n",
    "\n",
    "classifier = KNearestNeighbor()\n",
    "classifier.train(X_train, y_train)\n",
    "y_test_pred = classifier.predict(X_test, k=best_k)\n",
    "\n",
    "# Tính ra in ra hiệu năng\n",
    "num_correct = np.sum(y_test_pred == y_test)\n",
    "accuracy = float(num_correct) / num_test\n",
    "print('Got %d / %d correct => accuracy: %f' % (num_correct, num_test, accuracy))"
   ]
  },
  {
   "cell_type": "code",
   "execution_count": null,
   "metadata": {
    "collapsed": true
   },
   "outputs": [],
   "source": []
  }
 ],
 "metadata": {
  "kernelspec": {
   "display_name": "Python 3",
   "language": "python",
   "name": "python3"
  },
  "language_info": {
   "codemirror_mode": {
    "name": "ipython",
    "version": 3
   },
   "file_extension": ".py",
   "mimetype": "text/x-python",
   "name": "python",
   "nbconvert_exporter": "python",
   "pygments_lexer": "ipython3",
   "version": "3.6.4"
  }
 },
 "nbformat": 4,
 "nbformat_minor": 2
}
